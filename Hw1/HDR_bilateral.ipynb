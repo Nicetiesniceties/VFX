{
 "cells": [
  {
   "cell_type": "code",
   "execution_count": 4,
   "metadata": {},
   "outputs": [],
   "source": [
    "import cv2\n",
    "import numpy as np\n",
    "import os\n",
    "import random as rd\n",
    "import matplotlib.pyplot as plt"
   ]
  },
  {
   "cell_type": "code",
   "execution_count": 2,
   "metadata": {},
   "outputs": [],
   "source": [
    "def readImages(directory):\n",
    "    images_name = []\n",
    "    images = []\n",
    "    images_r, images_g, images_b = [], [], []\n",
    "    images_rgb = [images_r, images_g, images_b]\n",
    "    for filename in os.listdir(directory):\n",
    "        images_name.append( directory + '/' + filename)\n",
    "    images_name = sorted(images_name)\n",
    "    print(images_name)\n",
    "    for i in images_name:\n",
    "        images.append(cv2.imread(i))\n",
    "    alignMTB = cv2.createAlignMTB()\n",
    "    alignMTB.process(images, images)\n",
    "    for img in images:\n",
    "        img = cv2.resize(img, (0,0), fx=0.3, fy=0.3) \n",
    "        b, g, r = cv2.split(img)\n",
    "        images_r.append(np.array(r))\n",
    "        images_g.append(np.array(b))\n",
    "        images_b.append(np.array(g))\n",
    "        # cv2.imwrite(\"img.png\", cv2.merge((b,g,r)))\n",
    "        # images_rgb.append(cv2.cvtColor(images[-1], cv2.COLOR_BGR2RGB))\n",
    "    images_r, images_g, images_b = np.array(images_r), np.array(images_g), np.array(images_b)\n",
    "    return images, images_rgb"
   ]
  },
  {
   "cell_type": "code",
   "execution_count": 14,
   "metadata": {},
   "outputs": [],
   "source": [
    "def MLT_alignment(images, template):\n",
    "    def compute_greyvalue(img_rgb):\n",
    "        grey_img = np.zeros(img_rgb[0].shape)\n",
    "        grey_img = (54 * img_rgb[0] + 183 * img_rgb[1] + 19 * img_rgb[2]) / 256\n",
    "        return grey_img\n",
    "    def compute_bitmap(grey_img):\n",
    "        threshold = np.median(grey_img)\n",
    "        tb, eb = np.zeros(grey_img.shape), np.zeros(grey_img.shape)\n",
    "        for i in range(len(grey_img)):\n",
    "            for j in range(len(grey_img[0])):\n",
    "                if(abs(grey_img[i][j] - threshold) < 10):\n",
    "                    eb[i][j] = 0\n",
    "                if(grey_img[i][j] > threshold):\n",
    "                    tb[i][j] = 1\n",
    "        return tb, eb\n",
    "    def GetExpShift(img1, img2, shift_count):\n",
    "        # min_err, cur_shift[2]\n",
    "        tb1, eb1 = compute_bitmap(img1)\n",
    "        tb2, eb2 = compute_bitmap(img2)\n",
    "        if(shift_count > 0):\n",
    "            sml_img1 = cv2.resize(img1, (0,0), fx=0.5, fy=0.5) \n",
    "            sml_img2 = cv2.resize(img2, (0,0), fx=0.5, fy=0.5)\n",
    "            cur_shift = GetExpShift(sml_img1, sml_img2, shift_bits - 1)\n",
    "            cur_shift[0] *= 2\n",
    "            cur_shift[1] *= 2\n",
    "        else:\n",
    "            cur_shift[0] = cur_shift[1] = 0\n",
    "        min_err = len(img1) * len(img1[0])\n",
    "        for i in range(len(img1)):\n",
    "            for j in range(len(img1[0])):\n",
    "                xs = cur_shift[0] + i;\n",
    "                ys = cur_shift[1] + j;\n",
    "                shifted_tb2 = np.zeros(img1.shape)\n",
    "                shifted_eb2 = np.zeros(img1.shape)\n",
    "                M = np.float32([[1,0, xs],[0,1,ys]])\n",
    "                shifted_tb2 = cv2.warpAffine(tb2 ,M, img1.shape)\n",
    "                shifted_eb2 = cv2.warpAffine(eb2 ,M, img1.shape)\n",
    "                \n",
    "                diff_b = np.logical_xor(tb1, shifted_tb2)\n",
    "                diff_b = np.logical_and(diff_b, eb1)\n",
    "                diff_b = np.logical_and(diff_b, shifted_eb2)\n",
    "                err = np.sum(diff_b);\n",
    "                if (err < min_err):\n",
    "                    shift_ret[0] = xs;\n",
    "                    shift_ret[1] = ys;\n",
    "                    min_err = err;\n",
    "        return shift_ret"
   ]
  },
  {
   "cell_type": "code",
   "execution_count": 16,
   "metadata": {},
   "outputs": [],
   "source": [
    "def sampleZ(images_1c, MAX_intensity):\n",
    "    images = images_1c\n",
    "    intensity_range = MAX_intensity + 1\n",
    "    Z = np.zeros((intensity_range, len(images)), dtype = int)\n",
    "    # src_img = images[rd.randrange(len(images))]\n",
    "    src_img = images[0]\n",
    "    for intensity in range(intensity_range):\n",
    "        rows, cols = np.where(src_img == intensity)\n",
    "        if(len(rows) == 0):\n",
    "            rows, cols = np.where(images[1] == intensity)\n",
    "            if(len(rows) == 0):\n",
    "                continue\n",
    "        idx = rd.randrange(len(rows))\n",
    "        r, c = rows[idx], cols[idx]\n",
    "        for img_idx in range(len(images)):\n",
    "            Z[intensity, img_idx] = images[img_idx][r][c]\n",
    "    return Z"
   ]
  },
  {
   "cell_type": "code",
   "execution_count": 17,
   "metadata": {},
   "outputs": [],
   "source": [
    "def show_images(images):\n",
    "    fig, axes = plt.subplots(5, 5, figsize=(15, 15))\n",
    "    for p in range(len(images)):\n",
    "        r = int(p / 5)\n",
    "        c = int(p % 5)\n",
    "        axes[r][c].imshow(images[p])\n",
    "    plt.show()"
   ]
  },
  {
   "cell_type": "code",
   "execution_count": 18,
   "metadata": {},
   "outputs": [],
   "source": [
    "def intensity_weighting(pix_value, MAX_intensity):\n",
    "    return(min(pix_value, MAX_intensity - pix_value))"
   ]
  },
  {
   "cell_type": "code",
   "execution_count": 19,
   "metadata": {},
   "outputs": [],
   "source": [
    "def intensityAdjustment(image, template):\n",
    "    g, b, r = cv2.split(image)\n",
    "    tg, tb, tr = cv2.split(template)\n",
    "    b *= np.average(tb) / np.nanmean(b)\n",
    "    g *= np.average(tg) / np.nanmean(g)\n",
    "    r *= np.average(tr) / np.nanmean(r)\n",
    "    # image = np.average(template) / np.nanmean(image) * image\n",
    "    image = cv2.merge((g,b,r))\n",
    "    return image\n",
    "# intensityAdjustment(output, images[len(images) // 2])"
   ]
  },
  {
   "cell_type": "code",
   "execution_count": 20,
   "metadata": {},
   "outputs": [],
   "source": [
    "from tqdm import tqdm_notebook as tqdm\n",
    "def radiance_map_1c(images_1c, shutter_times, response_curve, weighting_function):\n",
    "    images = images_1c;\n",
    "    rad_map = np.zeros(images[0].shape);\n",
    "    for i in tqdm(range(len(images[0]))):\n",
    "        for j in range(len(images[0][0])):\n",
    "            g = np.array( [response_curve[images[n][i][j]] for n in range(len(images))] )\n",
    "            w = np.array( [weighting_function(images[n][i][j], 255) for n in range(len(images))] )\n",
    "            SumW = np.sum(w)\n",
    "            if SumW > 0:\n",
    "                rad_map[i][j] = np.sum(w * (g - shutter_times) / SumW)\n",
    "            else:\n",
    "                idx = rd.randrange(len(images))\n",
    "                rad_map[i][j] = g[idx] - shutter_times[idx]\n",
    "    return rad_map"
   ]
  },
  {
   "cell_type": "code",
   "execution_count": 21,
   "metadata": {},
   "outputs": [],
   "source": [
    "def computeResponseCurve(intensity_samples, log_exposures, slambda, weighting_function):\n",
    "    z_min, z_max = 0, 255\n",
    "    intensity_range = z_max - z_min\n",
    "    num_samples = intensity_samples.shape[0]\n",
    "    num_images = len(log_exposures)\n",
    "\n",
    "    A = np.zeros((num_images * num_samples + intensity_range, num_samples + intensity_range + 1), dtype=np.float64)\n",
    "    b = np.zeros((num_images * num_samples + intensity_range, 1), dtype=np.float64)\n",
    "\n",
    "    row = 0\n",
    "    for i in range(num_samples):\n",
    "        for j in range(num_images):\n",
    "            z_ij = intensity_samples[i, j]\n",
    "            w_ij = weighting_function(z_ij, 255)\n",
    "            A[row, z_ij] = w_ij\n",
    "            A[row, (intensity_range + 1) + i] = -w_ij\n",
    "            b[row, 0] = w_ij * log_exposures[j]\n",
    "            row += 1\n",
    "\n",
    "    for z_k in range(z_min + 1, z_max):\n",
    "        w_k = weighting_function(z_k, 255)\n",
    "        A[row, z_k - 1] = w_k * slambda\n",
    "        A[row, z_k    ] = -2 * w_k * slambda\n",
    "        A[row, z_k + 1] = w_k * slambda\n",
    "        row += 1\n",
    "\n",
    "    A[row, intensity_range // 2] = 1\n",
    "    inv_A = np.linalg.pinv(A)\n",
    "    x = np.dot(inv_A, b)\n",
    "   \n",
    "    g = x[0: intensity_range + 1]\n",
    "    return g[:, 0]"
   ]
  },
  {
   "cell_type": "code",
   "execution_count": 22,
   "metadata": {},
   "outputs": [],
   "source": [
    "def gammaToneMapping(image):\n",
    "    gamma = 0.8\n",
    "    image_corrected = cv2.pow(image/255., 1.0/gamma)\n",
    "    return image_corrected"
   ]
  },
  {
   "cell_type": "code",
   "execution_count": 23,
   "metadata": {},
   "outputs": [],
   "source": [
    "#import numpy as np\n",
    "#from random import random\n",
    "#from tqdm import tqdm\n",
    "from matplotlib import pyplot as plt\n",
    "from PIL import Image\n",
    "\n",
    "def gaussian(x, sigma):\n",
    "    return (1.0 / (2 * np.pi * (sigma ** 2))) * np.exp(- (x ** 2) / (2 * sigma ** 2))\n",
    "\n",
    "\n",
    "def bilateral_filter(input_image, output_image, x, y, filter_size):\n",
    "    w_sum = 0\n",
    "    denoised_intensity = 0\n",
    "    sigma_r = 1000\n",
    "    sigma_d = 2000\n",
    "    h = input_image.shape[0]\n",
    "    w = input_image.shape[1]\n",
    "    for i in range(-filter_size, filter_size + 1):\n",
    "        for j in range(-filter_size, filter_size + 1):\n",
    "            if x + i >= h or x + i < 0 or y + j >= w or y + j < 0:\n",
    "                continue\n",
    "            fr = gaussian(input_image[x + i][y + j] - input_image[x][y], sigma_r)\n",
    "            gs = gaussian(np.linalg.norm([i, j]), sigma_d)\n",
    "            w =  fr * gs\n",
    "            denoised_intensity += w * input_image[x + i][y + j]\n",
    "            w_sum += w\n",
    "    denoised_intensity /= w_sum\n",
    "    #print(denoised_intensity)\n",
    "    return denoised_intensity\n",
    "    #print(output_image[x, y])\n",
    "\n",
    "\n",
    "\n",
    "def bilateral_func(input_image):\n",
    "    ## functions\n",
    "    def bilateral(input_image):\n",
    "        filter_size = 2\n",
    "        output_image = np.zeros(input_image.shape)\n",
    "        h = input_image.shape[0]\n",
    "        w = input_image.shape[1]\n",
    "        for i in range(h):\n",
    "            for j in range(w):\n",
    "                output_image[i, j] = bilateral_filter(input_image, output_image,i, j, filter_size)\n",
    "                #print(output_image[i, j])\n",
    "        return output_image\n",
    "\n",
    "    def bilateral_filter(input_image, output_image, x, y, filter_size):\n",
    "        w_sum = 0\n",
    "        denoised_intensity = 0\n",
    "        sigma_r = 1000\n",
    "        sigma_d = 2000\n",
    "        h = input_image.shape[0]\n",
    "        w = input_image.shape[1]\n",
    "        for i in range(-filter_size, filter_size + 1):\n",
    "            for j in range(-filter_size, filter_size + 1):\n",
    "                if x + i >= h or x + i < 0 or y + j >= w or y + j < 0:\n",
    "                    continue\n",
    "                fr = gaussian(input_image[x + i][y + j] - input_image[x][y], sigma_r)\n",
    "                gs = gaussian(np.linalg.norm([i, j]), sigma_d)\n",
    "                w =  fr * gs\n",
    "                denoised_intensity += w * input_image[x + i][y + j]\n",
    "                w_sum += w\n",
    "        denoised_intensity /= w_sum\n",
    "        #print(denoised_intensity)\n",
    "        return denoised_intensity\n",
    "        #print(output_image[x, y])\n",
    "    \n",
    "    fig, axes = plt.subplots(2, 2, figsize=(15, 15))\n",
    "\n",
    "    R = input_image[0]\n",
    "    G = input_image[2]\n",
    "    B = input_image[1]\n",
    "    #intensity = 1/61 * (20 * R + 40 * G + B)\n",
    "    intensity = 0.2126 * R + 0.7152 * G + 0.0722 * B\n",
    "    print('intensity array ', intensity)\n",
    "    axes[0][0].imshow(Image.fromarray(intensity))\n",
    "    r = R / intensity\n",
    "    g = G / intensity\n",
    "    b = B / intensity\n",
    "    log_intensity = np.log(intensity)\n",
    "    log_base = bilateral(log_intensity)\n",
    "    log_detail = log_intensity - log_base\n",
    "    print('base array',log_base)\n",
    "    print('detail array',log_detail)\n",
    "    axes[0][1].imshow(Image.fromarray(np.exp(log_base)))\n",
    "    axes[1][0].imshow(Image.fromarray(np.exp(log_detail)))\n",
    "    targetContrast = np.log10(5)\n",
    "    tragetContrast = 20\n",
    "    compressionfactor = targetContrast / (np.max(log_base) - np.min(log_base))\n",
    "    print('compressionfactor',compressionfactor)\n",
    "    compressionfactor = 0.85\n",
    "    log_abs_scale = np.max(log_base) * compressionfactor\n",
    "    print('log absolute scale', log_abs_scale)\n",
    "    log_output = log_base * compressionfactor + log_detail# - log_abs_scale\n",
    "    axes[1][1].imshow(Image.fromarray(np.exp(log_output)), cmap = \"spring\")\n",
    "    print('log output', log_output)\n",
    "    R_out = r * np.exp(log_output)\n",
    "    G_out = g * np.exp(log_output)\n",
    "    B_out = b * np.exp(log_output)\n",
    "    plt.title(\"Bilateral Base\")\n",
    "    # plt.savefig(\"result_images/Base1.png\")\n",
    "    plt.show()\n",
    "    return [R_out, B_out, G_out]#np.concatenate((R_out, G_out, B_out), axis = 2)"
   ]
  },
  {
   "cell_type": "code",
   "execution_count": 34,
   "metadata": {},
   "outputs": [],
   "source": [
    "# if RadMap hasn't been calculated, send RadMap = []\n",
    "def CreateHdrImage(images_rgb, MAX_intensity, shutter_times, WeightedIntensity, ToneMappingFunction, RadMap):\n",
    "    Z_rgb, RespCurve, output = [], [], []\n",
    "    SLambda = 200\n",
    "    \n",
    "    # intensity sampling\n",
    "    Z_rgb = list(map(sampleZ, images_rgb, [MAX_intensity] * 3))\n",
    "    \n",
    "    # response curve\n",
    "    RespCurve = list(map(computeResponseCurve, Z_rgb, [shutter_times] * 3, [SLambda] * 3, [WeightedIntensity] * 3))\n",
    "    #RespCurve = [-1 * curve for curve in RespCurve]\n",
    "    for curve in RespCurve:\n",
    "        plt.plot(curve)\n",
    "    plt.legend()\n",
    "    plt.title(\"Response Curve\")\n",
    "    plt.show()\n",
    "    # Calculate Radiance Map if RadMap is an empty list\n",
    "    if len(RadMap) == 0:\n",
    "        RadMap = list(map(radiance_map_1c, images_rgb, [shutter_times] * 3, RespCurve, [WeightedIntensity] * 3))\n",
    "    \n",
    "    # normalize and Tonemapping\n",
    "    for i in range(3):\n",
    "        output.append(cv2.normalize(np.exp(RadMap[i]), np.array([]), alpha=0, beta=255, norm_type=cv2.NORM_MINMAX))\n",
    "    \n",
    "    # output = bilateral_func(output)\n",
    "    # output = list(map(ToneMappingFunction, output))\n",
    "    for i in range(3):\n",
    "        output[i] = cv2.normalize(output[i], np.array([]), alpha=0, beta=255, norm_type=cv2.NORM_MINMAX)\n",
    "    result_image = cv2.merge((output[1], output[2], output[0]))\n",
    "    \n",
    "    # intensity adjustment\n",
    "    result_image= intensityAdjustment(result_image, images[0])\n",
    "    \n",
    "    return result_image, RadMap"
   ]
  },
  {
   "cell_type": "code",
   "execution_count": 25,
   "metadata": {},
   "outputs": [],
   "source": [
    "# balcony_times = np.array([1/400, 1/250, 1/100, 1/40, 1/25, 1/8, 1/3], dtype = float)\n",
    "# memorial_list = [ 2 ** 10, 2 ** 9, 2 ** 8, 2 ** 7, \n",
    "#                  2 ** 6, 2 ** 5, 2 ** 4, 2 ** 3, \n",
    "#                  2 ** 2, 2 ** 1, 2 ** (0), 2 ** (-1), \n",
    "#                  2 ** (-2), 2 ** (-3), 2 ** (-4), 2 ** (-5)]\n",
    "# memorial_times = np.array(shutter_list, dtype=np.float32)\n",
    "# living_room_times = np.array([1/160, 1/125, 1/80, 1/60, 1/40, 1/15], dtype = float)"
   ]
  },
  {
   "cell_type": "code",
   "execution_count": 36,
   "metadata": {},
   "outputs": [
    {
     "name": "stderr",
     "output_type": "stream",
     "text": [
      "No handles with labels found to put in legend.\n"
     ]
    },
    {
     "data": {
      "image/png": "[encoded data removed]",
      "text/plain": [
       "<Figure size 432x288 with 1 Axes>"
      ]
     },
     "metadata": {
      "needs_background": "light"
     },
     "output_type": "display_data"
    },
    {
     "data": {
      "application/vnd.jupyter.widget-view+json": {
       "model_id": "25925c1d17a149969189b1fddcf0801c",
       "version_major": 2,
       "version_minor": 0
      },
      "text/plain": [
       "HBox(children=(IntProgress(value=0, max=1205), HTML(value='')))"
      ]
     },
     "metadata": {},
     "output_type": "display_data"
    },
    {
     "name": "stdout",
     "output_type": "stream",
     "text": [
      "\n"
     ]
    }
   ],
   "source": [
    "if __name__ == \"__main__\":\n",
    "    images, images_rgb = readImages(\"testing_images/View1\")\n",
    "    show_images(images)\n",
    "    # living_room_times = np.array([1/160, 1/125, 1/80, 1/60, 1/40, 1/15], dtype = float)\n",
    "    view_2_times = np.array([1, 10, 15, 1 / 10, 1 / 25, \n",
    "                             1 / 5, 1 / 50, 2.5, 20, 5])\n",
    "    view_1_times = np.array([1, 10, 15, 1 / 10, 1 / 2.5, 1 / 25, \n",
    "                             1 / 5, 20, 5])\n",
    "    complete_view_1_times = np.array([1, 20, 15, 1/10, 1/100, 1/125, 1/160, 1/2.5, 1/25, \n",
    "                                     1/250, 1/400, 1/5, 1/50, 1/80, 1/800, 20, 25, 5])\n",
    "    #test_times = np.array([60, 80, 100, 125, 160, 200, 250, 320, 400, 500, 800, 1250, 2000, 3200], dtype = float)\n",
    "    #test_times = test_times[::-1]\n",
    "    #living_room_times = np.array([32, 16, 8, 4, 2, 1, 0.5, 0.25, 0.125, 0.0625, 0.03125, 0.15625, 0.0078125, 0.00390625, 0.001953125, 0.0009765265], dtype = float)\n",
    "    #living_room_times = living_room_times[::-1]\n",
    "    # living_room_times = np.log(living_room_times)\n",
    "    result_image, RadianceMap = CreateHdrImage(\n",
    "                                   images_rgb, \n",
    "                                   MAX_intensity = 255, \n",
    "                                   shutter_times = np.log(view_1_times),#test_times[-10: -1], \n",
    "                                   WeightedIntensity = intensity_weighting, \n",
    "                                   ToneMappingFunction = gammaToneMapping, \n",
    "                                   RadMap = RadianceMap\n",
    "                                )\n",
    "    for i in tqdm(range(len(result_image))):\n",
    "        for j in range(len(result_image[0])):\n",
    "            if(result_image[i][j][0] > 230):\n",
    "                result_image[i][j][1]  = result_image[i][j][2] = result_image[i][j][0]\n",
    "    cv2.imwrite(\"result_images/normalize.png\", result_image)"
   ]
  },
  {
   "cell_type": "code",
   "execution_count": 55,
   "metadata": {},
   "outputs": [
    {
     "data": {
      "text/plain": [
       "107.3439862817477"
      ]
     },
     "execution_count": 55,
     "metadata": {},
     "output_type": "execute_result"
    }
   ],
   "source": [
    "np.exp(np.max(RadianceMap))"
   ]
  },
  {
   "cell_type": "code",
   "execution_count": 28,
   "metadata": {},
   "outputs": [
    {
     "data": {
      "image/png": "[encoded data removed]",
      "text/plain": [
       "<Figure size 432x288 with 2 Axes>"
      ]
     },
     "metadata": {
      "needs_background": "light"
     },
     "output_type": "display_data"
    }
   ],
   "source": [
    "# plt.imshow(cv2.normalize(np.exp(RadianceMap[0]), np.array([]), alpha=0, beta=255, norm_type=cv2.NORM_MINMAX), \n",
    "#            origin=\"lower\", cmap='Spectral', interpolation='nearest')\n",
    "plt.imshow(RadianceMap[0], \n",
    "           origin=\"lower\", cmap='autumn', interpolation='nearest')\n",
    "plt.gca().invert_yaxis()\n",
    "plt.colorbar()\n",
    "plt.title(\"Radiance Map\")\n",
    "plt.savefig(\"result_images/smallsizeRmap1.png\")\n",
    "plt.show()\n"
   ]
  },
  {
   "cell_type": "code",
   "execution_count": 29,
   "metadata": {},
   "outputs": [],
   "source": [
    "for i in range(3):\n",
    "    RadianceMap[i] = np.clip(RadianceMap[i], -10, 0)"
   ]
  },
  {
   "cell_type": "code",
   "execution_count": null,
   "metadata": {},
   "outputs": [],
   "source": []
  }
 ],
 "metadata": {
  "kernelspec": {
   "display_name": "Python 3",
   "language": "python",
   "name": "python3"
  },
  "language_info": {
   "codemirror_mode": {
    "name": "ipython",
    "version": 3
   },
   "file_extension": ".py",
   "mimetype": "text/x-python",
   "name": "python",
   "nbconvert_exporter": "python",
   "pygments_lexer": "ipython3",
   "version": "3.7.0"
  }
 },
 "nbformat": 4,
 "nbformat_minor": 2
}
