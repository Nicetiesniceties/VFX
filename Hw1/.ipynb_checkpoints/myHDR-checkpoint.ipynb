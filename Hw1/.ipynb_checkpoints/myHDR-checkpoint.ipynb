{
 "cells": [
  {
   "cell_type": "code",
   "execution_count": 1,
   "metadata": {},
   "outputs": [],
   "source": [
    "import cv2\n",
    "import numpy as np\n",
    "import os\n",
    "import random as rd\n",
    "import matplotlib.pyplot as plt"
   ]
  },
  {
   "cell_type": "code",
   "execution_count": 2,
   "metadata": {},
   "outputs": [],
   "source": [
    "def readImages(directory):\n",
    "    images_name = []\n",
    "    images = []\n",
    "    images_r, images_g, images_b = [], [], []\n",
    "    images_rgb = [images_r, images_g, images_b]\n",
    "    for filename in os.listdir(directory):\n",
    "        images_name.append( directory + '/' + filename)\n",
    "    images_name = sorted(images_name)\n",
    "    for i in images_name:\n",
    "        images.append(cv2.imread(i))\n",
    "        b, g, r = cv2.split(images[-1])\n",
    "        images_r.append(np.array(r))\n",
    "        images_g.append(np.array(b))\n",
    "        images_b.append(np.array(g))\n",
    "        # cv2.imwrite(\"img.png\", cv2.merge((b,g,r)))\n",
    "        # images_rgb.append(cv2.cvtColor(images[-1], cv2.COLOR_BGR2RGB))\n",
    "    images_r, images_g, images_b = np.array(images_r), np.array(images_g), np.array(images_b)\n",
    "    return images, images_rgb"
   ]
  },
  {
   "cell_type": "code",
   "execution_count": 3,
   "metadata": {},
   "outputs": [],
   "source": [
    "def sampleZ(images_1c, MAX_intensity):\n",
    "    images = images_1c\n",
    "    intensity_range = MAX_intensity + 1\n",
    "    Z = np.zeros((intensity_range, len(images)), dtype = int)\n",
    "    # src_img = images[rd.randrange(len(images))]\n",
    "    src_img = images[len(images) // 2]\n",
    "    for intensity in range(intensity_range):\n",
    "        rows, cols = np.where(src_img == intensity)\n",
    "        if(len(rows) == 0):\n",
    "            rows, cols = np.where(images[len(images) // 2 + 1] == intensity)\n",
    "            if(len(rows) == 0):\n",
    "                continue\n",
    "        idx = rd.randrange(len(rows))\n",
    "        r, c = rows[idx], cols[idx]\n",
    "        for img_idx in range(len(images)):\n",
    "            Z[intensity, img_idx] = images[img_idx][r][c]\n",
    "    return Z\n"
   ]
  },
  {
   "cell_type": "code",
   "execution_count": 4,
   "metadata": {},
   "outputs": [],
   "source": [
    "def intensity_weighting(pix_value, MAX_intensity):\n",
    "    return(min(pix_value, MAX_intensity - pix_value))"
   ]
  },
  {
   "cell_type": "code",
   "execution_count": 5,
   "metadata": {},
   "outputs": [],
   "source": [
    "def intensityAdjustment(image, template):\n",
    "    g, b, r = cv2.split(image)\n",
    "    tg, tb, tr = cv2.split(template)\n",
    "    b *= np.average(tb) / np.nanmean(b)\n",
    "    g *= np.average(tg) / np.nanmean(g)\n",
    "    r *= np.average(tr) / np.nanmean(r)\n",
    "    # image = np.average(template) / np.nanmean(image) * image\n",
    "    image = cv2.merge((g,b,r))\n",
    "    return image\n",
    "# intensityAdjustment(output, images[len(images) // 2])"
   ]
  },
  {
   "cell_type": "code",
   "execution_count": 6,
   "metadata": {},
   "outputs": [],
   "source": [
    "from tqdm import tqdm_notebook as tqdm\n",
    "def radiance_map_1c(images_1c, shutter_times, response_curve, weighting_function):\n",
    "    images = images_1c;\n",
    "    rad_map = np.zeros(images[0].shape);\n",
    "    \n",
    "    for i in tqdm(range(len(images[0]))):\n",
    "        for j in range(len(images[0][0])):\n",
    "            g = np.array( [response_curve[images[n][i][j]] for n in range(len(images))] )\n",
    "            w = np.array( [weighting_function(images[n][i][j], 255) for n in range(len(images))] )\n",
    "            SumW = np.sum(w)\n",
    "            if SumW > 0:\n",
    "                rad_map[i][j] = np.sum(w * (g - shutter_times) / SumW)\n",
    "            else:\n",
    "                idx = rd.randrange(len(images))\n",
    "                rad_map[i][j] = g[idx] - shutter_times[idx]\n",
    "    return rad_map"
   ]
  },
  {
   "cell_type": "code",
   "execution_count": 7,
   "metadata": {},
   "outputs": [],
   "source": [
    "def show_images(images):\n",
    "    fig, axes = plt.subplots(4, 4, figsize=(15, 15))\n",
    "    for p in range(len(images)):\n",
    "        r = int(p / 4)\n",
    "        c = int(p % 4)\n",
    "        axes[r][c].imshow(images[p])\n",
    "    plt.show()"
   ]
  },
  {
   "cell_type": "code",
   "execution_count": 8,
   "metadata": {},
   "outputs": [],
   "source": [
    "def computeResponseCurve(intensity_samples, log_exposures, smoothing_lambda, weighting_function):\n",
    "    z_min, z_max = 0, 255\n",
    "    intensity_range = 255  # difference between min and max possible pixel value for uint8\n",
    "    num_samples = intensity_samples.shape[0]\n",
    "    num_images = len(log_exposures)\n",
    "\n",
    "    # NxP + [(Zmax-1) - (Zmin + 1)] + 1 constraints; N + 256 columns\n",
    "    mat_A = np.zeros((num_images * num_samples + intensity_range, num_samples + intensity_range + 1), dtype=np.float64)\n",
    "    mat_b = np.zeros((mat_A.shape[0], 1), dtype=np.float64)\n",
    "\n",
    "    # 1. Add data-fitting constraints:\n",
    "    k = 0\n",
    "    for i in range(num_samples):\n",
    "        for j in range(num_images):\n",
    "            z_ij = intensity_samples[i, j]\n",
    "            w_ij = weighting_function(z_ij, 255)\n",
    "            mat_A[k, z_ij] = w_ij\n",
    "            mat_A[k, (intensity_range + 1) + i] = -w_ij\n",
    "            mat_b[k, 0] = w_ij * log_exposures[j]\n",
    "            k += 1\n",
    "    \n",
    "    # 2. Add smoothing constraints:\n",
    "    for z_k in range(z_min + 1, z_max):\n",
    "        w_k = weighting_function(z_k, 255)\n",
    "        mat_A[k, z_k - 1] = w_k * smoothing_lambda\n",
    "        mat_A[k, z_k    ] = -2 * w_k * smoothing_lambda\n",
    "        mat_A[k, z_k + 1] = w_k * smoothing_lambda\n",
    "        k += 1\n",
    "\n",
    "    # 3. Add color curve centering constraint:\n",
    "    mat_A[k, (z_max - z_min) // 2] = 1\n",
    "    \n",
    "    inv_A = np.linalg.pinv(mat_A)\n",
    "    x = np.dot(inv_A, mat_b)\n",
    "   \n",
    "    g = x[0: intensity_range + 1]\n",
    "    return g[:, 0]\n"
   ]
  },
  {
   "cell_type": "code",
   "execution_count": 9,
   "metadata": {},
   "outputs": [],
   "source": [
    "def gammaToneMapping(image, gamma):\n",
    "    image_corrected = cv2.pow(image/255., 1.0/gamma)\n",
    "    return image_corrected"
   ]
  },
  {
   "cell_type": "code",
   "execution_count": null,
   "metadata": {},
   "outputs": [],
   "source": [
    "# if RadMap hasn't been calculated, send RadMap[]\n",
    "def CreateHdrImage(images_rgb, MAX_intensity, shutter_times, intensity_weighting, ToneMappingFunction, RadMap):\n",
    "    Z_rgb, RespCurve, output = [], [], []\n",
    "    SLambda = 10\n",
    "    gamma = 0.8\n",
    "    \n",
    "    # intensity sampling\n",
    "    Z_rgb = list(map(sampleZ, images_rgb, [MAX_intensity] * 3))\n",
    "    \n",
    "    # response curve\n",
    "    RespCurve = list(map(computeResponseCurve, Z_rgb, [shutter_times] * 3, [SLambda] * 3, [intensity_weighting] * 3))\n",
    "    \n",
    "    # Calculate Radiance Map if RadMap is an empty list\n",
    "    if len(RadMap) == 0:\n",
    "        RadMap = list(map(radiance_map_1c, images_rgb, [shutter_times] * 3, RespCurve, [intensity_weighting] * 3))\n",
    "    \n",
    "    # normalize and Tonemapping\n",
    "    for i in range(3):\n",
    "        output.append(cv2.normalize(RadMap[i], np.array([]), alpha=0, beta=255, norm_type=cv2.NORM_MINMAX))\n",
    "    output = list(map(ToneMappingFunction, output, [gamma] * 3))\n",
    "    for i in range(3):\n",
    "        output[i] = cv2.normalize(output[i], np.array([]), alpha=0, beta=255, norm_type=cv2.NORM_MINMAX)\n",
    "    result_image = cv2.merge((output[1], output[2], output[0]))\n",
    "    result_image= intensityAdjustment(result_image, images[4])\n",
    "    return result_image, RadMap"
   ]
  },
  {
   "cell_type": "code",
   "execution_count": null,
   "metadata": {},
   "outputs": [],
   "source": [
    "if __name__ == \"__main__\":\n",
    "    images, images_rgb = readImages(\"testing_image\")\n",
    "    Z_r = sampleZ(images_rgb[0], 255)\n",
    "    Z_g = sampleZ(images_rgb[1], 255)\n",
    "    Z_b = sampleZ(images_rgb[2], 255)\n",
    "    print(Z_r)\n",
    "    show_images(images)\n",
    "    # shutter_times = np.array([1/160, 1/125, 1/80, 1/60, 1/40, 1/15], dtype = float)\n",
    "    # shutter_times = np.array([1/400, 1/250, 1/100, 1/40, 1/25, 1/8, 1/3], dtype = float)\n",
    "    shutter_list = [ 2 ** 10, 2 ** 9, 2 ** 8, 2 ** 7, \n",
    "                     2 ** 6, 2 ** 5, 2 ** 4, 2 ** 3, \n",
    "                     2 ** 2, 2 ** 1, 2 ** (0), 2 ** (-1), \n",
    "                     2 ** (-2), 2 ** (-3), 2 ** (-4), 2 ** (-5)]\n",
    "    shutter_times = np.array(shutter_list, dtype=np.float32)\n",
    "    R_r = computeResponseCurve(Z_r, shutter_times, 10, intensity_weighting)\n",
    "    R_g = computeResponseCurve(Z_g, shutter_times, 10, intensity_weighting)\n",
    "    R_b = computeResponseCurve(Z_b, shutter_times, 10, intensity_weighting)\n",
    "    RR = radiance_map_1c(images_rgb[0], shutter_times, R_r, intensity_weighting)\n",
    "    GG = radiance_map_1c(images_rgb[1], shutter_times, R_g, intensity_weighting)\n",
    "    BB = radiance_map_1c(images_rgb[2], shutter_times, R_b, intensity_weighting)\n",
    "    gamma = 0.8\n",
    "    R = cv2.normalize(RR, np.array([]), alpha=0, beta=255, norm_type=cv2.NORM_MINMAX)\n",
    "    G = cv2.normalize(GG, np.array([]), alpha=0, beta=255, norm_type=cv2.NORM_MINMAX)\n",
    "    B = cv2.normalize(BB, np.array([]), alpha=0, beta=255, norm_type=cv2.NORM_MINMAX)\n",
    "\n",
    "    R = gammaToneMapping(R, gamma)\n",
    "    G = gammaToneMapping(G, gamma)\n",
    "    B = gammaToneMapping(B, gamma)\n",
    "    R = cv2.normalize(R, np.array([]), alpha=0, beta=255, norm_type=cv2.NORM_MINMAX)\n",
    "    G = cv2.normalize(G, np.array([]), alpha=0, beta=255, norm_type=cv2.NORM_MINMAX)\n",
    "    B = cv2.normalize(B, np.array([]), alpha=0, beta=255, norm_type=cv2.NORM_MINMAX)\n",
    "    output = cv2.merge((G,B,R))\n",
    "    output = intensityAdjustment(output, images[4])\n",
    "    cv2.imwrite(\"img7.png\", output)"
   ]
  }
 ],
 "metadata": {
  "kernelspec": {
   "display_name": "Python 3",
   "language": "python",
   "name": "python3"
  },
  "language_info": {
   "codemirror_mode": {
    "name": "ipython",
    "version": 3
   },
   "file_extension": ".py",
   "mimetype": "text/x-python",
   "name": "python",
   "nbconvert_exporter": "python",
   "pygments_lexer": "ipython3",
   "version": "3.7.0"
  }
 },
 "nbformat": 4,
 "nbformat_minor": 2
}
